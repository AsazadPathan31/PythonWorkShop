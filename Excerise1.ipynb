{
 "cells": [
  {
   "cell_type": "markdown",
   "metadata": {},
   "source": [
    "## ** What is 7 to the power of 4?**"
   ]
  },
  {
   "cell_type": "code",
   "execution_count": 2,
   "metadata": {},
   "outputs": [
    {
     "data": {
      "text/plain": [
       "2401"
      ]
     },
     "execution_count": 2,
     "metadata": {},
     "output_type": "execute_result"
    }
   ],
   "source": [
    "7**4"
   ]
  },
  {
   "cell_type": "markdown",
   "metadata": {},
   "source": [
    "## ** Split this string:**"
   ]
  },
  {
   "cell_type": "code",
   "execution_count": 1,
   "metadata": {},
   "outputs": [
    {
     "name": "stdout",
     "output_type": "stream",
     "text": [
      "['Hi', 'there', 'Yogesh!']\n"
     ]
    }
   ],
   "source": [
    "s=\"Hi there Yogesh!\"\n",
    "ls=s.split()\n",
    "print(ls)\n"
   ]
  },
  {
   "cell_type": "markdown",
   "metadata": {},
   "source": [
    "## ** Given the variables:** ** Use .format() to print the following string: **"
   ]
  },
  {
   "cell_type": "code",
   "execution_count": 4,
   "metadata": {},
   "outputs": [
    {
     "name": "stdout",
     "output_type": "stream",
     "text": [
      "The diameter of Earth is 12742 kilometers.\n"
     ]
    }
   ],
   "source": [
    "planet = \"Earth\"\n",
    "diameter = 12742\n",
    "print(\"The diameter of {} is {} kilometers.\".format(planet,diameter))"
   ]
  },
  {
   "cell_type": "markdown",
   "metadata": {},
   "source": [
    "## ** Given this nested list, use indexing to grab the word \"hello\" **"
   ]
  },
  {
   "cell_type": "code",
   "execution_count": 5,
   "metadata": {},
   "outputs": [],
   "source": [
    "lst = [1,2,[3,4],[5,[100,200,['hello']],23,11],1,7]"
   ]
  },
  {
   "cell_type": "code",
   "execution_count": 7,
   "metadata": {},
   "outputs": [
    {
     "data": {
      "text/plain": [
       "'hello'"
      ]
     },
     "execution_count": 7,
     "metadata": {},
     "output_type": "execute_result"
    }
   ],
   "source": [
    "lst[3][1][2][0]"
   ]
  },
  {
   "cell_type": "markdown",
   "metadata": {},
   "source": [
    "## ** Given this nested dictionary grab the word \"hello\". Be prepared, this will be annoying/tricky **"
   ]
  },
  {
   "cell_type": "code",
   "execution_count": 8,
   "metadata": {},
   "outputs": [],
   "source": [
    "d = {'k1':[1,2,3,{'tricky':['oh','man','inception',{'target':\n",
    "[1,2,3,'hello']}]}]}"
   ]
  },
  {
   "cell_type": "code",
   "execution_count": 23,
   "metadata": {},
   "outputs": [
    {
     "data": {
      "text/plain": [
       "'hello'"
      ]
     },
     "execution_count": 23,
     "metadata": {},
     "output_type": "execute_result"
    }
   ],
   "source": [
    "d[\"k1\"][3][\"tricky\"][3][\"target\"][3]"
   ]
  },
  {
   "cell_type": "markdown",
   "metadata": {},
   "source": [
    "## ** What is the main difference between a tuple and a list? **"
   ]
  },
  {
   "cell_type": "markdown",
   "metadata": {},
   "source": [
    "Solution: The Major Difference Between List and Tuple is that the List is Mutable and Tuple is Immutable"
   ]
  },
  {
   "cell_type": "markdown",
   "metadata": {},
   "source": [
    "### ** Create a function that grabs the email website domain from a string in the form: ** user@domain.com"
   ]
  },
  {
   "cell_type": "code",
   "execution_count": 27,
   "metadata": {},
   "outputs": [
    {
     "name": "stdout",
     "output_type": "stream",
     "text": [
      "Enter the Email:user@domain.com\n"
     ]
    },
    {
     "data": {
      "text/plain": [
       "'domain.com'"
      ]
     },
     "execution_count": 27,
     "metadata": {},
     "output_type": "execute_result"
    }
   ],
   "source": [
    "def domainreturn(email):\n",
    "    return(email[email.index(\"@\")+1:])\n",
    "\n",
    "\n",
    "x=input(\"Enter the Email:\")\n",
    "domainreturn(x)"
   ]
  },
  {
   "cell_type": "markdown",
   "metadata": {},
   "source": [
    "## ** Create a basic function that returns True if the word 'dog' is contained in the input\n",
    "string. Don't worry about edge cases like a punctuation being attached to the word dog, but\n",
    "do account for capitalization. **"
   ]
  },
  {
   "cell_type": "code",
   "execution_count": 34,
   "metadata": {},
   "outputs": [
    {
     "name": "stdout",
     "output_type": "stream",
     "text": [
      "Enter the String:this my 'dog'\n"
     ]
    },
    {
     "data": {
      "text/plain": [
       "True"
      ]
     },
     "execution_count": 34,
     "metadata": {},
     "output_type": "execute_result"
    }
   ],
   "source": [
    "def finddog(d):\n",
    "    if \"dog\" in d:\n",
    "        return(True)\n",
    "    else:\n",
    "        return(False)\n",
    "\n",
    "x=input(\"Enter the String:\")\n",
    "finddog(x)"
   ]
  },
  {
   "cell_type": "markdown",
   "metadata": {},
   "source": [
    "## ** Create a function that counts the number of times the word \"dog\" occurs in a string.\n",
    "Again ignore edge cases. **"
   ]
  },
  {
   "cell_type": "code",
   "execution_count": 37,
   "metadata": {},
   "outputs": [
    {
     "name": "stdout",
     "output_type": "stream",
     "text": [
      "Enter the String:This dog, runs faster than the other dog dude\n"
     ]
    },
    {
     "data": {
      "text/plain": [
       "2"
      ]
     },
     "execution_count": 37,
     "metadata": {},
     "output_type": "execute_result"
    }
   ],
   "source": [
    "def countdog(d):\n",
    "    return(d.count(\"dog\"))\n",
    "\n",
    "x=input(\"Enter the String:\")\n",
    "countdog(x)"
   ]
  },
  {
   "cell_type": "markdown",
   "metadata": {},
   "source": [
    "## ** Use lambda expressions and the filter() function to filter out words from a list that don't\n",
    "start with the letter 's'. For example:**"
   ]
  },
  {
   "cell_type": "code",
   "execution_count": 38,
   "metadata": {},
   "outputs": [],
   "source": [
    "seq=['soup','dog','salad','cat','great']"
   ]
  },
  {
   "cell_type": "code",
   "execution_count": 39,
   "metadata": {},
   "outputs": [
    {
     "data": {
      "text/plain": [
       "['dog', 'cat', 'great']"
      ]
     },
     "execution_count": 39,
     "metadata": {},
     "output_type": "execute_result"
    }
   ],
   "source": [
    "v=list(filter(lambda x:x[0]!=\"s\",seq))\n",
    "v"
   ]
  },
  {
   "cell_type": "markdown",
   "metadata": {},
   "source": [
    "# Final Problem\n",
    "You are driving a little too fast, and a police officer stops you. Write a function to\n",
    "return one of 3 possible results: \"No ticket\", \"Small ticket\", or \"Big Ticket\". If your\n",
    "speed is 60 or less, the result is \"No Ticket\". If speed is between 61 and 80 inclusive,\n",
    "the result is \"Small Ticket\". If speed is 81 or more, the result is \"Big Ticket\". Unless it\n",
    "is your birthday (encoded as a boolean value in the parameters of the function) -- on\n",
    "your birthday, your speed can be 5 higher in all cases."
   ]
  },
  {
   "cell_type": "code",
   "execution_count": 10,
   "metadata": {},
   "outputs": [
    {
     "name": "stdout",
     "output_type": "stream",
     "text": [
      "Big Ticket\n"
     ]
    }
   ],
   "source": [
    "def bk(speed,birthday):\n",
    "    if(birthday==True):\n",
    "        speed-=5\n",
    "    if(speed<=60):\n",
    "         print(\"No Ticket\")\n",
    "    elif(speed>=61 and speed<=80):\n",
    "        print(\"Small Ticket\")\n",
    "    elif(speed>=81):\n",
    "        print(\"Big Ticket\")\n",
    "\n",
    "bk(88,True)\n"
   ]
  },
  {
   "cell_type": "code",
   "execution_count": null,
   "metadata": {},
   "outputs": [],
   "source": []
  },
  {
   "cell_type": "markdown",
   "metadata": {},
   "source": [
    "# Question\n",
    "Given a string print number num by extracting all the\n",
    "digits from the string as in string\n",
    "Print negative number if the first character in\n",
    "string is '-'\n",
    "eg.\n",
    "-123abcd should return -123,abcd456-->456,fdhfh78dsd89--->7889,-\n",
    "56dssd78-->-5678"
   ]
  },
  {
   "cell_type": "code",
   "execution_count": 12,
   "metadata": {},
   "outputs": [
    {
     "name": "stdout",
     "output_type": "stream",
     "text": [
      "safd-5689\n",
      "5689"
     ]
    }
   ],
   "source": [
    "x=input()\n",
    "ls=[]\n",
    "if(x[0])==\"-\":\n",
    "    ls=['0','1','2','3','4','5','6','7','8','9','-']\n",
    "else:\n",
    "    ls=['0','1','2','3','4','5','6','7','8','9']\n",
    "for i in x:\n",
    "    if i in ls:\n",
    "        print(i,end=\"\")"
   ]
  },
  {
   "cell_type": "markdown",
   "metadata": {},
   "source": [
    "# Q2\n",
    "WAP to check whether a number is palindrome or not on following\n",
    "conditions.\n",
    "1. take input number\n",
    "2. add number and its reverse\n",
    "3. check that number is palindrome or not,if not then sum and its\n",
    "reverse"
   ]
  },
  {
   "cell_type": "code",
   "execution_count": 27,
   "metadata": {},
   "outputs": [
    {
     "name": "stdout",
     "output_type": "stream",
     "text": [
      "88\n",
      "No. is 88\n",
      "Reverse is 88\n",
      "Sum is 176\n",
      "No. is 176\n",
      "Reverse is 671\n",
      "Sum is 847\n",
      "No. is 847\n",
      "Reverse is 748\n",
      "Sum is 1595\n",
      "No. is 1595\n",
      "Reverse is 5951\n",
      "Sum is 7546\n",
      "No. is 7546\n",
      "Reverse is 6457\n",
      "Sum is 14003\n",
      "Palendrome Number:44044\n"
     ]
    }
   ],
   "source": [
    "x=input()\n",
    "i=0\n",
    "while(True):\n",
    "    if(i==0):\n",
    "        x1=x\n",
    "        i+=1\n",
    "    c=x1[::-1]\n",
    "    s=str(int(x1)+int(c))\n",
    "    if(s==s[::-1]):\n",
    "        print(\"Palendrome Number:{}\".format(s))\n",
    "        break     \n",
    "    print(\"No. is {}\".format(x1))\n",
    "    print(\"Reverse is {}\".format(c))\n",
    "    print(\"Sum is {}\".format(s))\n",
    "    x1=s\n",
    "   "
   ]
  },
  {
   "cell_type": "markdown",
   "metadata": {},
   "source": [
    "# Write a python function to find and display the five\n",
    "digit number in which the first digit is two more than\n",
    "the second,the second digit is two more than the third,\n",
    "the fourth digit is two less than the third, and the\n",
    "last digit is two more than\n",
    "the fourth.The sum of the third,fourth and fifth digits\n",
    "equals the first.The sum of all the digits is 19"
   ]
  },
  {
   "cell_type": "code",
   "execution_count": 68,
   "metadata": {},
   "outputs": [],
   "source": [
    "def number(n):\n",
    "    if((int(n[0])-int(n[1]))==2):\n",
    "        if((int(n[1])-int(n[2]))==2):\n",
    "            if((int(n[2])-int(n[3]))==2):\n",
    "                if((int(n[3])-int(n[4]))==-2):\n",
    "                    if((int(n[2])+int(n[3])+int(n[4]))==int(n[0])):\n",
    "                        if(int(n[0])+int(n[1])+int(n[2])+int(n[3])+int(n[4])==19):\n",
    "                            print(n)       "
   ]
  },
  {
   "cell_type": "code",
   "execution_count": 82,
   "metadata": {},
   "outputs": [
    {
     "name": "stdout",
     "output_type": "stream",
     "text": [
      "75313\n"
     ]
    }
   ],
   "source": [
    "for i in range(10000,100000):\n",
    "    number(str(i))"
   ]
  },
  {
   "cell_type": "code",
   "execution_count": null,
   "metadata": {},
   "outputs": [],
   "source": []
  },
  {
   "cell_type": "code",
   "execution_count": null,
   "metadata": {},
   "outputs": [],
   "source": []
  }
 ],
 "metadata": {
  "kernelspec": {
   "display_name": "Python 3",
   "language": "python",
   "name": "python3"
  },
  "language_info": {
   "codemirror_mode": {
    "name": "ipython",
    "version": 3
   },
   "file_extension": ".py",
   "mimetype": "text/x-python",
   "name": "python",
   "nbconvert_exporter": "python",
   "pygments_lexer": "ipython3",
   "version": "3.7.6"
  }
 },
 "nbformat": 4,
 "nbformat_minor": 5
}
